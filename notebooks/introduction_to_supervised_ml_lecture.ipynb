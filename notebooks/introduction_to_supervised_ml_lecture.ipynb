{
 "cells": [
  {
   "cell_type": "markdown",
   "metadata": {
    "deletable": true,
    "editable": true
   },
   "source": [
    "# Overview/Review"
   ]
  },
  {
   "cell_type": "markdown",
   "metadata": {
    "deletable": true,
    "editable": true
   },
   "source": [
    "## Supervised Machine Learning\n",
    "\n",
    "* The outcome variable is known and we are training the model using that information. \n",
    "* Output variables in supervised learning have \"labels\", meaning we know what we are trying to predict.\n",
    "* The goal is to approximate the mapping function so well that when you have new input data (x) that you can predict the output variables $h_θ(x)$ for that data.\n",
    "* It is a preocess where you have input variables (x) and an output variable $h_θ(x)$ and you use an algorithm to learn the mapping function from the input to the output.        \n",
    "\n",
    "$$\n",
    "h_θ(x) = f(X)\n",
    "$$"
   ]
  },
  {
   "cell_type": "markdown",
   "metadata": {
    "deletable": true,
    "editable": true
   },
   "source": [
    "## Supervised Machine Learning Process\n",
    "\n",
    "* Correct answers(labels) to the training set are known. \n",
    "* The algorithm iteratively makes predictions on the training data and checks it against the correct answers. \n",
    "* Wrong predictions are corrected. \n",
    "* The process of correction is called **Learning**. \n",
    "* Learning stops when the algorithm achieves an acceptable level of performance."
   ]
  },
  {
   "cell_type": "markdown",
   "metadata": {
    "deletable": true,
    "editable": true
   },
   "source": [
    "## Examples of Supervised Learning\n",
    "    \n",
    "   - Predicting if a patient will survive or not given a set of medical test results\n",
    "   - Predicting sales a company will make in a given financial year"
   ]
  },
  {
   "cell_type": "markdown",
   "metadata": {
    "deletable": true,
    "editable": true
   },
   "source": [
    "## Regression vs Classification\n",
    "\n",
    "+ **Regression Problems**: have dependent variables we are trying to predict are continuous values or ordered whole values. \n",
    "    - E.g. Predicting the house prices, sales of a company, points scored by a sports a team etc.\n",
    "\n",
    "+ **Classification Problems**: have dependent variables we are trying to predict are categorical and sometimes unordered. \n",
    "    - E.g. Predicting the survivor of Titanic disaster, if a patient has a particular disease etc.\n",
    "\n",
    "\n",
    "\n",
    "* If there is continuity between possible outcomes, then the problem is a regression problem. "
   ]
  },
  {
   "cell_type": "markdown",
   "metadata": {
    "deletable": true,
    "editable": true
   },
   "source": [
    "## Algorithms\n",
    "\n",
    "**Examples of Regression Algorithms**\n",
    "\n",
    "* Ordinary Linear Regression\n",
    "* L1 Regression\n",
    "* L1+L2 RegressionDecision\n",
    "* Random Forest Regressor\n",
    "* Gradient Boosting Machine Regressor\n",
    "\n",
    "**Examples of Classification Algorithms**\n",
    "\n",
    "* Logistic Regression\n",
    "* SVM\n",
    "* Trees Classifier\n",
    "* Random Forest Classifier\n",
    "* Gradient Boosting Machine Classifier"
   ]
  },
  {
   "cell_type": "markdown",
   "metadata": {
    "deletable": true,
    "editable": true
   },
   "source": [
    "## Metrics\n",
    "\n",
    "**Examples of Regression Metrics**\n",
    "\n",
    "* Mean Squared Error\n",
    "* Mean Absolute Error\n",
    "\n",
    "**Examples of Classification Metrics**\n",
    "\n",
    "* Confusion Matrix\n",
    "* Accuracy\n",
    "* Precision and Recall \n",
    "* f1\n",
    "* AUC"
   ]
  },
  {
   "cell_type": "markdown",
   "metadata": {
    "deletable": true,
    "editable": true
   },
   "source": [
    "# Linear Regression Intuition:"
   ]
  },
  {
   "cell_type": "markdown",
   "metadata": {
    "deletable": true,
    "editable": true
   },
   "source": [
    "## Sample Data\n",
    "\n",
    "Consider the following data with heights and corresponding weights of samples of a particular species of a plant."
   ]
  },
  {
   "cell_type": "code",
   "execution_count": 2,
   "metadata": {
    "collapsed": false,
    "deletable": true,
    "editable": true
   },
   "outputs": [
    {
     "data": {
      "text/html": [
       "<div>\n",
       "<style>\n",
       "    .dataframe thead tr:only-child th {\n",
       "        text-align: right;\n",
       "    }\n",
       "\n",
       "    .dataframe thead th {\n",
       "        text-align: left;\n",
       "    }\n",
       "\n",
       "    .dataframe tbody tr th {\n",
       "        vertical-align: top;\n",
       "    }\n",
       "</style>\n",
       "<table border=\"1\" class=\"dataframe\">\n",
       "  <thead>\n",
       "    <tr style=\"text-align: right;\">\n",
       "      <th></th>\n",
       "      <th>height(cm)</th>\n",
       "      <th>weight(kg)</th>\n",
       "    </tr>\n",
       "  </thead>\n",
       "  <tbody>\n",
       "    <tr>\n",
       "      <th>0</th>\n",
       "      <td>10</td>\n",
       "      <td>1.2</td>\n",
       "    </tr>\n",
       "    <tr>\n",
       "      <th>1</th>\n",
       "      <td>24</td>\n",
       "      <td>3.1</td>\n",
       "    </tr>\n",
       "    <tr>\n",
       "      <th>2</th>\n",
       "      <td>43</td>\n",
       "      <td>3.8</td>\n",
       "    </tr>\n",
       "    <tr>\n",
       "      <th>3</th>\n",
       "      <td>35</td>\n",
       "      <td>2.7</td>\n",
       "    </tr>\n",
       "    <tr>\n",
       "      <th>4</th>\n",
       "      <td>52</td>\n",
       "      <td>5.8</td>\n",
       "    </tr>\n",
       "  </tbody>\n",
       "</table>\n",
       "</div>"
      ],
      "text/plain": [
       "   height(cm)  weight(kg)\n",
       "0          10         1.2\n",
       "1          24         3.1\n",
       "2          43         3.8\n",
       "3          35         2.7\n",
       "4          52         5.8"
      ]
     },
     "execution_count": 2,
     "metadata": {},
     "output_type": "execute_result"
    }
   ],
   "source": [
    "import pandas as pd\n",
    "import numpy as np\n",
    "\n",
    "df = pd.DataFrame({\"height(cm)\": [10, 24, 43, 35, 52],\n",
    "                   \"weight(kg)\": [1.2, 3.1, 3.8, 2.7, 5.8]})\n",
    "df"
   ]
  },
  {
   "cell_type": "markdown",
   "metadata": {
    "deletable": true,
    "editable": true
   },
   "source": [
    "Let's say we want to predict the weight of a plant having the height of 29 cm.\n",
    "\n",
    "* We have been given the dataset with correct weights corresponsing to the heights of some samples. Hence, it is a supervised learning problem.\n",
    "* Since values of weights can be continuous, it is a regression problem."
   ]
  },
  {
   "cell_type": "markdown",
   "metadata": {
    "deletable": true,
    "editable": true
   },
   "source": [
    "## Terminology: Predictors vs Response Variables:\n",
    "\n",
    "We are trying to predict weight using the value of height, \n",
    "\n",
    "- height is called **predictor** or **independent** variable. \n",
    "- weight is called **response** or **dependent** variable."
   ]
  },
  {
   "cell_type": "markdown",
   "metadata": {
    "deletable": true,
    "editable": true
   },
   "source": [
    "## Visualizing Data\n",
    "\n",
    "Here is how the scatter plot of the data looks like."
   ]
  },
  {
   "cell_type": "code",
   "execution_count": 4,
   "metadata": {
    "collapsed": false,
    "deletable": true,
    "editable": true
   },
   "outputs": [
    {
     "data": {
      "image/png": "[encoded data removed]",
      "text/plain": [
       "<matplotlib.figure.Figure at 0x10748b390>"
      ]
     },
     "metadata": {},
     "output_type": "display_data"
    }
   ],
   "source": [
    "%matplotlib inline\n",
    "import matplotlib.pyplot as plt\n",
    "\n",
    "plt.plot(df[\"height(cm)\"], df[\"weight(kg)\"], \"g+\")\n",
    "plt.xlabel('height(cm)')\n",
    "plt.ylabel('weight(kg)')\n",
    "plt.show()"
   ]
  },
  {
   "cell_type": "markdown",
   "metadata": {
    "deletable": true,
    "editable": true
   },
   "source": [
    "## Fitting a rough linear model\n",
    "\n",
    "Clearly, height holds positive correlation with weight. More the height, more the weight.\n",
    "\n",
    "In order to predict the weight of a 29cm tall plant, let's use the line as shown in the graph. The equation of the line is \n",
    "\n",
    ">$weight = 0.1 + 0.1* height$\n",
    "\n",
    "It seems to fit the pattern of the scatter plot."
   ]
  },
  {
   "cell_type": "markdown",
   "metadata": {
    "deletable": true,
    "editable": true
   },
   "source": [
    "## Visualization"
   ]
  },
  {
   "cell_type": "code",
   "execution_count": 5,
   "metadata": {
    "collapsed": false,
    "deletable": true,
    "editable": true
   },
   "outputs": [
    {
     "data": {
      "image/png": "[encoded data removed]",
      "text/plain": [
       "<matplotlib.figure.Figure at 0x1076a1fd0>"
      ]
     },
     "metadata": {},
     "output_type": "display_data"
    }
   ],
   "source": [
    "plt.plot(df[\"height(cm)\"], df[\"weight(kg)\"], \"g+\")\n",
    "plt.plot(df[\"height(cm)\"], 0.1 + 0.1*df[\"height(cm)\"], \"r--\")\n",
    "plt.xlabel('height(cm)')\n",
    "plt.ylabel('weight(kg)')\n",
    "plt.show()"
   ]
  },
  {
   "cell_type": "markdown",
   "metadata": {
    "deletable": true,
    "editable": true
   },
   "source": [
    "## First Inference\n",
    "\n",
    "Using this line, we can say that the weight of the plant with 29 cm height is _3.0 kg_.\n",
    "\n",
    "Congratulations! You just attempted your first linear regression problem. "
   ]
  },
  {
   "cell_type": "markdown",
   "metadata": {
    "deletable": true,
    "editable": true
   },
   "source": [
    "## Terminology: Univariate vs Multivariate Regression\n",
    "\n",
    "- Here, we are using only one predictor (height) to predict the weight. Hence, it is called  **Univariate Regression**. \n",
    "- If we use more than one predictors to predict the weight (dependent variable), then it would be called **Multivariate Regression**."
   ]
  },
  {
   "cell_type": "markdown",
   "metadata": {
    "deletable": true,
    "editable": true
   },
   "source": [
    "## Terminology: Notations\n",
    "\n",
    "- $x^{(i)}$ denotes the predictors \n",
    "- $y^{(i)}$ denotes the response variable (weight). \n",
    "- For example, in our case: $x^{(4)}$ = 35 and $y^{(1)}$ = 1.2\n",
    "\n",
    "----------\n",
    "- Superscript “(i)” in the notation is simply an index into the training set, and has nothing to do with exponentiation. \n",
    "- A pair ($x^{(i)}$ , $y^{(i)}$) is called a training example. \n",
    "- For example, 2nd training example, ($x^{(2)}$ , $y^{(2)}$) corresponds to (24, 3.1)\n",
    "\n",
    "--------\n",
    "-  The dataset used to learn—a list of m training examples {($x^{(i)}$ , $y^{(i)}$; i = 1, . . . , m} — is called a training set. \n",
    "- In this example,  m = 5"
   ]
  },
  {
   "cell_type": "markdown",
   "metadata": {
    "deletable": true,
    "editable": true
   },
   "source": [
    "## Matrix Representation: Feature Space\n",
    "\n",
    "* More often than not, predictors, target and coefficient are represented as matrices.\n",
    "* For a sample size m and number of features n,\n",
    "\n",
    "$$\n",
    "X_{m,n+1} = \n",
    " \\begin{bmatrix}\n",
    "  1 & x_{1,1} & x_{1,2} & \\cdots & x_{x,n} \\\\\n",
    "  1 & x_{2,1} & x_{2,2} & \\cdots & x_{x,n} \\\\\n",
    "  \\vdots  & \\vdots  & \\vdots  & \\ddots & \\vdots  \\\\\n",
    "  1 & x_{m,1} & x_{m,2} & \\cdots & x_{m,n} \n",
    " \\end{bmatrix} \n",
    "$$"
   ]
  },
  {
   "cell_type": "markdown",
   "metadata": {
    "deletable": true,
    "editable": true
   },
   "source": [
    "## Matrix Representation: Coefficients\n",
    "\n",
    "$$\n",
    "\\Theta_{n+1, 1} = \n",
    " \\begin{bmatrix}\n",
    "  \\theta_{0}\\\\\n",
    "  \\theta_{1}  \\\\\n",
    "  \\theta_{2}  \\\\\n",
    "  \\vdots  \\\\\n",
    "  \\theta_{n}  \n",
    " \\end{bmatrix} \n",
    "$$"
   ]
  },
  {
   "cell_type": "markdown",
   "metadata": {
    "deletable": true,
    "editable": true
   },
   "source": [
    "## Matrix Representation: Target Matrix\n",
    "\n",
    "$$\n",
    "Y_{m,1} = \n",
    " \\begin{bmatrix}\n",
    "  y_{1}  \\\\\n",
    "  y_{2}  \\\\\n",
    "  \\vdots  \\\\\n",
    "  y_{m}  \n",
    " \\end{bmatrix} \n",
    "$$"
   ]
  },
  {
   "cell_type": "markdown",
   "metadata": {
    "deletable": true,
    "editable": true
   },
   "source": [
    "## Hypothesis Intuition\n",
    "\n",
    "- Our goal is, given a training set, to learn a function $h_θ (x)$ : X → Y so that $h_θ (x)$ is a _good_ predictor for the corresponding value of y. \n",
    "- This function h is called a **hypothesis**: \n",
    "\n",
    ">$h_θ (x) = θ_0 + θ_1 x_1$\n",
    "    \n",
    "- In our example, since $h_θ (x)$ is a predictor of weight. We have taken $\\theta_0$ as 0.1 and $\\theta_1$ as 0.1. Hence,\n",
    "\n",
    ">$h_θ (x) = 0.1 + 0.1 * height$ "
   ]
  },
  {
   "cell_type": "markdown",
   "metadata": {
    "deletable": true,
    "editable": true
   },
   "source": [
    "## Hypothesis\n",
    "\n",
    "- Here, the $θ_i$ s are the parameters parameterizing the space of linear functions mapping from X to Y. \n",
    "- We also introduce the convention of letting $x_0 = 1$ (this is the intercept term), so that \n",
    "\n",
    "$$h(x)=\\sum_{i=0}^{n}\\theta_ix_i$$\n",
    "\n",
    "\n",
    "- On the right-hand side above we are viewing θ and x both as vectors, and here n is the number of input variables (not counting $x_0$)."
   ]
  },
  {
   "cell_type": "markdown",
   "metadata": {
    "deletable": true,
    "editable": true
   },
   "source": [
    "## Matrix Representation: Hypothesis\n",
    "$$\n",
    "h_\\theta(x) = X \\Theta\n",
    "$$"
   ]
  },
  {
   "cell_type": "markdown",
   "metadata": {
    "deletable": true,
    "editable": true
   },
   "source": [
    "# Cost Function:"
   ]
  },
  {
   "cell_type": "markdown",
   "metadata": {
    "deletable": true,
    "editable": true
   },
   "source": [
    "## Intuition\n",
    "\n",
    "In addition to the previous line, consider two more lines,\n",
    "\n",
    ">$weight = 0.3 + 0.09* height$, and\n",
    "\n",
    ">$weight = 0.1 + 0.12* height$\n",
    "\n",
    "* Now, instead of the red line, if we used greeb line or blue line, we would get weight 2.9 kg and 3.6 kg respectively.\n",
    "\n",
    "* More formally, given a training set, how do we pick, or learn, the parameters θ? "
   ]
  },
  {
   "cell_type": "code",
   "execution_count": 7,
   "metadata": {
    "collapsed": false,
    "deletable": true,
    "editable": true
   },
   "outputs": [
    {
     "data": {
      "image/png": "[encoded data removed]",
      "text/plain": [
       "<matplotlib.figure.Figure at 0x7f685b3e9b90>"
      ]
     },
     "metadata": {},
     "output_type": "display_data"
    }
   ],
   "source": [
    "plt.plot(df[\"height(cm)\"], df[\"weight(kg)\"], \"g+\")\n",
    "plt.plot(df[\"height(cm)\"], 0.1 + 0.1*df[\"height(cm)\"], \"r--\")\n",
    "plt.plot(df[\"height(cm)\"], 0.3 + 0.09*df[\"height(cm)\"], \"g--\")\n",
    "plt.plot(df[\"height(cm)\"], 0.1 + 0.12*df[\"height(cm)\"], \"b--\")\n",
    "plt.xlabel('height(cm)')\n",
    "plt.ylabel('weight(kg)')\n",
    "plt.show()"
   ]
  },
  {
   "cell_type": "markdown",
   "metadata": {
    "deletable": true,
    "editable": true
   },
   "source": [
    "## Cost Function Definition\n",
    "\n",
    "* We choose $θ$ so that predicted values are as close to the actual values as possible\n",
    "- We can define a mathematical function to capture the difference between the predicted and actual values. \n",
    "- This function is known as the **cost function**:\n",
    "\n",
    "$$J(\\theta) = \\frac{1}{2m} \\sum_{i=1}^m(h_θ(x^{(i)}) − y^{(i)})^2$$\n",
    "\n",
    "This can be presented in matrix form.\n",
    "\n",
    "$$J(\\theta) = \\frac{1}{2m}(X\\theta − y)^T(X\\theta − y)$$\n",
    "\n",
    " \n",
    "- Since this function captures square of ditance, it is known as the **least-squares cost function**.\n",
    "\n",
    "Let's calculate cost functions for the three lines for our example."
   ]
  },
  {
   "cell_type": "markdown",
   "metadata": {
    "deletable": true,
    "editable": true
   },
   "source": [
    "## Calculating Cost Function"
   ]
  },
  {
   "cell_type": "code",
   "execution_count": 6,
   "metadata": {
    "collapsed": false,
    "deletable": true,
    "editable": true,
    "scrolled": false
   },
   "outputs": [
    {
     "name": "stdout",
     "output_type": "stream",
     "text": [
      "J(red_line): 1.79\n",
      "J(green_line): 1.7814\n",
      "J(blue_line): 5.0076\n"
     ]
    }
   ],
   "source": [
    "df[\"red_line_cost\"] = (0.1 + 0.1*df[\"height(cm)\"] - df[\"weight(kg)\"])**2\n",
    "df[\"green_line_cost\"] = (0.3 + 0.09*df[\"height(cm)\"] - df[\"weight(kg)\"])**2\n",
    "df[\"blue_line_cost\"] = (0.1 + 0.12*df[\"height(cm)\"] - df[\"weight(kg)\"])**2\n",
    "\n",
    "print(\"J(red_line):\", sum(df[\"red_line_cost\"]))\n",
    "print(\"J(green_line):\", sum(df[\"green_line_cost\"]))\n",
    "print(\"J(blue_line):\", sum(df[\"blue_line_cost\"]))"
   ]
  },
  {
   "cell_type": "markdown",
   "metadata": {
    "deletable": true,
    "editable": true
   },
   "source": [
    "* It seems that green line does the best job of predicting the weight since, the cost function is minimum for the green line.\n",
    "* However, we cannot be sure if this is the best possible solution.\n",
    "* Hence, we need to come up with a method to find the best solution."
   ]
  },
  {
   "cell_type": "markdown",
   "metadata": {
    "deletable": true,
    "editable": true
   },
   "source": [
    "## Deriving the closed-form solution\n",
    "\n",
    ">$J(\\theta) = \\frac{1}{2m}(X\\theta − y)^T(X\\theta − y)$\n",
    "\n",
    ">$J(\\theta) = \\frac{1}{2m} ((X\\theta)^T − y^T)(X\\theta − y)$\n",
    "\n",
    ">$J(\\theta) = \\frac{1}{2m} ((X\\theta)^T X\\theta − (X\\theta)^T y − y^T X\\theta + y^T y)$\n",
    "\n",
    ">$J(\\theta) = \\frac{1}{2m} (\\theta^T X^T X \\theta − 2 (X\\theta)^T y + y^T y)$"
   ]
  },
  {
   "cell_type": "markdown",
   "metadata": {
    "deletable": true,
    "editable": true
   },
   "source": [
    "## Minimizing the Error\n",
    "\n",
    "$\\frac{\\partial}{\\partial\\theta_j}J(\\theta) = (2 X^T X \\theta − 2 X^T y) = 0$\n",
    "\n",
    "$X^T X \\theta = X^T y$\n",
    "\n",
    "$$\\theta = (X^T X)^{-1} X^T y$$\n",
    "\n",
    "Let's see how closed form solution works out for our example.\n",
    "\n",
    "Let's add another column called tickness to our dataset and make the problem _multivariate_."
   ]
  },
  {
   "cell_type": "markdown",
   "metadata": {
    "deletable": true,
    "editable": true
   },
   "source": [
    "## Closed-form in Python"
   ]
  },
  {
   "cell_type": "code",
   "execution_count": 7,
   "metadata": {
    "collapsed": false,
    "deletable": true,
    "editable": true
   },
   "outputs": [
    {
     "data": {
      "text/html": [
       "<div>\n",
       "<style>\n",
       "    .dataframe thead tr:only-child th {\n",
       "        text-align: right;\n",
       "    }\n",
       "\n",
       "    .dataframe thead th {\n",
       "        text-align: left;\n",
       "    }\n",
       "\n",
       "    .dataframe tbody tr th {\n",
       "        vertical-align: top;\n",
       "    }\n",
       "</style>\n",
       "<table border=\"1\" class=\"dataframe\">\n",
       "  <thead>\n",
       "    <tr style=\"text-align: right;\">\n",
       "      <th></th>\n",
       "      <th>height(cm)</th>\n",
       "      <th>weight(kg)</th>\n",
       "      <th>red_line_cost</th>\n",
       "      <th>green_line_cost</th>\n",
       "      <th>blue_line_cost</th>\n",
       "      <th>thickness(mm)</th>\n",
       "    </tr>\n",
       "  </thead>\n",
       "  <tbody>\n",
       "    <tr>\n",
       "      <th>0</th>\n",
       "      <td>10</td>\n",
       "      <td>1.2</td>\n",
       "      <td>0.01</td>\n",
       "      <td>0.0000</td>\n",
       "      <td>0.0100</td>\n",
       "      <td>8</td>\n",
       "    </tr>\n",
       "    <tr>\n",
       "      <th>1</th>\n",
       "      <td>24</td>\n",
       "      <td>3.1</td>\n",
       "      <td>0.36</td>\n",
       "      <td>0.4096</td>\n",
       "      <td>0.0144</td>\n",
       "      <td>13</td>\n",
       "    </tr>\n",
       "    <tr>\n",
       "      <th>2</th>\n",
       "      <td>43</td>\n",
       "      <td>3.8</td>\n",
       "      <td>0.36</td>\n",
       "      <td>0.1369</td>\n",
       "      <td>2.1316</td>\n",
       "      <td>19</td>\n",
       "    </tr>\n",
       "    <tr>\n",
       "      <th>3</th>\n",
       "      <td>35</td>\n",
       "      <td>2.7</td>\n",
       "      <td>0.81</td>\n",
       "      <td>0.5625</td>\n",
       "      <td>2.5600</td>\n",
       "      <td>26</td>\n",
       "    </tr>\n",
       "    <tr>\n",
       "      <th>4</th>\n",
       "      <td>52</td>\n",
       "      <td>5.8</td>\n",
       "      <td>0.25</td>\n",
       "      <td>0.6724</td>\n",
       "      <td>0.2916</td>\n",
       "      <td>30</td>\n",
       "    </tr>\n",
       "  </tbody>\n",
       "</table>\n",
       "</div>"
      ],
      "text/plain": [
       "   height(cm)  weight(kg)  red_line_cost  green_line_cost  blue_line_cost  \\\n",
       "0          10         1.2           0.01           0.0000          0.0100   \n",
       "1          24         3.1           0.36           0.4096          0.0144   \n",
       "2          43         3.8           0.36           0.1369          2.1316   \n",
       "3          35         2.7           0.81           0.5625          2.5600   \n",
       "4          52         5.8           0.25           0.6724          0.2916   \n",
       "\n",
       "   thickness(mm)  \n",
       "0              8  \n",
       "1             13  \n",
       "2             19  \n",
       "3             26  \n",
       "4             30  "
      ]
     },
     "execution_count": 7,
     "metadata": {},
     "output_type": "execute_result"
    }
   ],
   "source": [
    "df[\"thickness(mm)\"] = [8, 13, 19, 26, 30]\n",
    "df"
   ]
  },
  {
   "cell_type": "code",
   "execution_count": 9,
   "metadata": {
    "collapsed": true,
    "deletable": true,
    "editable": true
   },
   "outputs": [],
   "source": [
    "X = np.array(df[[\"height(cm)\", \"thickness(mm)\"] ])\n",
    "y = np.array(df[\"weight(kg)\"])\n",
    "theta = np.dot(np.dot(np.linalg.inv(np.dot(X.T, X)), X.T), y)"
   ]
  },
  {
   "cell_type": "code",
   "execution_count": 10,
   "metadata": {
    "collapsed": false,
    "deletable": true,
    "editable": true
   },
   "outputs": [
    {
     "data": {
      "text/plain": [
       "array([ 0.11482838, -0.02587724])"
      ]
     },
     "execution_count": 10,
     "metadata": {},
     "output_type": "execute_result"
    }
   ],
   "source": [
    "theta"
   ]
  },
  {
   "cell_type": "markdown",
   "metadata": {
    "deletable": true,
    "editable": true
   },
   "source": [
    "# Gradient Descent"
   ]
  },
  {
   "cell_type": "markdown",
   "metadata": {
    "deletable": true,
    "editable": true
   },
   "source": [
    "## Gradient Descent Intuition\n",
    "\n",
    "The value of the cost function depends on the values of ($\\theta_0$, $\\theta_1$). In our example,\n",
    "\n",
    "- ($\\theta_0$, $\\theta_1$) for red line: (0.1, 0.1)\n",
    "- ($\\theta_0$, $\\theta_1$) for green line: (0.3, 0.09)\n",
    "- ($\\theta_0$, $\\theta_1$) for blue line: (0.1, 0.12)\n",
    "\n",
    "In general, cost function is a function of parameter matrix $\\theta$. We want to choose θ so as to minimize J(θ). To do so, let’s use a search algorithm that starts with some “initial guess” for θ, and that repeatedly changes θ to make J(θ) smaller, until hopefully we converge to a value of θ that minimizes J(θ). \n",
    "\n",
    "One such algorithm is the gradient descent algorithm, which starts with some initial θ, and repeatedly performs the update:\n",
    "\n",
    ">$\\theta_j:= \\theta_j - \\alpha \\frac{\\partial}{\\partial\\theta_j}J(\\theta)$   ...(1)\n",
    "\n",
    "Here, α is called the **learning rate**. This is a very natural algorithm that repeatedly takes a step in the direction of steepest decrease of J."
   ]
  },
  {
   "cell_type": "markdown",
   "metadata": {
    "deletable": true,
    "editable": true
   },
   "source": [
    "## GD Optimization\n",
    "\n",
    "$\\frac{\\partial}{\\partial\\theta_j}J(\\theta)$ in eq.(1) can be simplified as following\n",
    "\n",
    ">$\\frac{\\partial}{\\partial\\theta_j}J(\\theta) = \\frac{\\partial}{\\partial\\theta_j} \\frac{1}{2} (h_θ(x) − y)^2$\n",
    "\n",
    ">$\\frac{\\partial}{\\partial\\theta_j}J(\\theta) = 2 * \\frac{1}{2} (h_θ(x) − y) * \\frac{\\partial}{\\partial\\theta_j}  (h_θ(x) − y)$\n",
    "\n",
    ">$\\frac{\\partial}{\\partial\\theta_j}J(\\theta) = (h_θ(x) − y) * \\frac{\\partial}{\\partial\\theta_j}  (\\sum_{i=0}^{n}\\theta_ix_i − y)$\n",
    "\n",
    ">$\\frac{\\partial}{\\partial\\theta_j}J(\\theta) = (h_θ(x) − y) * x_j$\n",
    "\n",
    "Hence, for a single training example, eq.(1) becomes\n",
    "\n",
    ">$\\theta_j:= \\theta_j + \\alpha  (y^{(i)} - h_θ(x^{(i)})) * x^{(i)}_j$\n",
    "\n",
    "For the training set, eq.(1) becomes\n",
    "\n",
    ">$\\theta_j:= \\theta_j + \\alpha \\sum_{i=1}^{m}(y^{(i)} - h_θ(x^{(i)})) * x^{(i)}_j$\n",
    "\n",
    "Here, $x_j$ is the corresponding predictor for $\\theta_j$. \n",
    "- For example, predictor corresponding to  $\\theta_1$ and 2nd training example, $x^{(2)}_1$ is 24. \n",
    "- Value for all $x^{(i)}_0$ is equal to 1."
   ]
  },
  {
   "cell_type": "markdown",
   "metadata": {
    "deletable": true,
    "editable": true
   },
   "source": [
    "## GD Algorithm\n",
    "\n",
    "To get the optimal value of $\\theta$, perform follwoing algorithm known as the **Batch Gradient Descent Algorithm** \n",
    "\n",
    "1. Assume initial $\\theta$\n",
    "- Calculate $h(\\theta)$ for i=1 to m\n",
    "- Calculate $J(\\theta)$. Stop when value of $J(\\theta)$ attains global/local minima\n",
    "- Calculate $\\sum_{i=1}^{m}(y^{(i)} - h_θ(x^{(i)})) * x^{(i)}_j$ for all $\\theta_j$'s\n",
    "- Calculate new $\\theta_j$'s\n",
    "- Go to step 2\n",
    "\n",
    "Let's apply the Gradient Descent algorithm to our example. \n",
    "\n",
    "- We initialise $\\theta_j$'s with the blue line $\\theta_j$\n",
    "- We assume $\\alpha$ to be 0.1"
   ]
  },
  {
   "cell_type": "markdown",
   "metadata": {
    "deletable": true,
    "editable": true
   },
   "source": [
    "## GD in action"
   ]
  },
  {
   "cell_type": "code",
   "execution_count": 1,
   "metadata": {
    "collapsed": true,
    "deletable": true,
    "editable": true
   },
   "outputs": [],
   "source": [
    "import numpy as np"
   ]
  },
  {
   "cell_type": "code",
   "execution_count": 11,
   "metadata": {
    "collapsed": true,
    "deletable": true,
    "editable": true
   },
   "outputs": [],
   "source": [
    "# y = theta * x + b\n",
    "def compute_error_for_line_given_points(b, theta, points):\n",
    "    data = np.array(points)\n",
    "    x = data[:,0]\n",
    "    y = data[:,-1]\n",
    "    y_predicted = theta * x + b\n",
    "    error = np.sum((y - y_predicted)**2) / data.shape[0]\n",
    "    return  error"
   ]
  },
  {
   "cell_type": "code",
   "execution_count": 12,
   "metadata": {
    "collapsed": true,
    "deletable": true,
    "editable": true
   },
   "outputs": [],
   "source": [
    "def step_gradient(b_current, theta_current, points, learningRate):\n",
    "    data = np.array(points)\n",
    "    x = data[:, 0]\n",
    "    y = data[:, 1]\n",
    "    N = data.shape[0]\n",
    "    b_gradient = -2 * np.sum(y - (theta_current * x + b_current)) / N\n",
    "    theta_gradient = -2 * np.sum(x * (y - (theta_current * x + b_current))) / N\n",
    "    new_b = b_current - (learningRate * b_gradient)\n",
    "    new_theta = theta_current - (learningRate * theta_gradient)\n",
    "    return new_b, new_theta"
   ]
  },
  {
   "cell_type": "code",
   "execution_count": 13,
   "metadata": {
    "collapsed": true,
    "deletable": true,
    "editable": true
   },
   "outputs": [],
   "source": [
    "def gradient_descent_runner(points, starting_b, starting_theta, learning_rate, num_iterations):\n",
    "    b = starting_b\n",
    "    theta = starting_theta\n",
    "    b_list = []\n",
    "    theta_list = []\n",
    "    error_list = []\n",
    "    for i in range(num_iterations):\n",
    "        b, theta = step_gradient(b, theta, points, learning_rate)\n",
    "        error = compute_error_for_line_given_points(b, theta, points)\n",
    "        b_list.append(b)\n",
    "        theta_list.append(theta)\n",
    "        error_list.append(error)\n",
    "    return b_list, theta_list, error_list"
   ]
  },
  {
   "cell_type": "code",
   "execution_count": 15,
   "metadata": {
    "collapsed": false,
    "deletable": true,
    "editable": true
   },
   "outputs": [],
   "source": [
    "points = np.genfromtxt(\"../data/data.csv\", delimiter=\",\")\n",
    "learning_rate = 0.0001\n",
    "initial_b = 2 # initial y-intercept guess\n",
    "initial_m = 6 # initial slope guess\n",
    "num_iterations = 15"
   ]
  },
  {
   "cell_type": "code",
   "execution_count": 17,
   "metadata": {
    "collapsed": true,
    "deletable": true,
    "editable": true
   },
   "outputs": [],
   "source": [
    "error_before = compute_error_for_line_given_points(initial_b, initial_m, points)\n",
    "b, theta, error = gradient_descent_runner(points, initial_b, initial_m, learning_rate, num_iterations)\n",
    "error_after = compute_error_for_line_given_points(b[-1], theta[-1], points)"
   ]
  },
  {
   "cell_type": "code",
   "execution_count": 131,
   "metadata": {
    "collapsed": false,
    "deletable": true,
    "editable": true
   },
   "outputs": [
    {
     "name": "stdout",
     "output_type": "stream",
     "text": [
      "Starting gradient descent at b = 2, m = 6, error = 51903.5527927\n",
      "After 15 iterations b = 1.91110404492, m = 1.44207599024, error = 111.653003167\n"
     ]
    }
   ],
   "source": [
    "print \"Starting gradient descent at b = {0}, m = {1}, error = {2}\".format(initial_b, initial_m, error_before)\n",
    "print \"After {0} iterations b = {1}, m = {2}, error = {3}\".format(num_iterations, b[-1], theta[-1], error_after)"
   ]
  },
  {
   "cell_type": "code",
   "execution_count": 18,
   "metadata": {
    "collapsed": true,
    "deletable": true,
    "editable": true
   },
   "outputs": [],
   "source": [
    "import matplotlib.pyplot as plt\n",
    "%matplotlib inline"
   ]
  },
  {
   "cell_type": "code",
   "execution_count": 19,
   "metadata": {
    "collapsed": false,
    "deletable": true,
    "editable": true
   },
   "outputs": [
    {
     "data": {
      "image/png": "[encoded data removed]",
      "text/plain": [
       "<matplotlib.figure.Figure at 0x1077df0f0>"
      ]
     },
     "metadata": {},
     "output_type": "display_data"
    }
   ],
   "source": [
    "plt.plot(b)\n",
    "plt.xlabel(\"Iterations\")\n",
    "plt.ylabel(\"theta\")\n",
    "plt.title(\"Theta\");"
   ]
  },
  {
   "cell_type": "code",
   "execution_count": 23,
   "metadata": {
    "collapsed": false,
    "deletable": true,
    "editable": true
   },
   "outputs": [
    {
     "ename": "NameError",
     "evalue": "name 'm' is not defined",
     "output_type": "error",
     "traceback": [
      "\u001b[0;31m---------------------------------------------------------------------------\u001b[0m",
      "\u001b[0;31mNameError\u001b[0m                                 Traceback (most recent call last)",
      "\u001b[0;32m<ipython-input-23-16f447131793>\u001b[0m in \u001b[0;36m<module>\u001b[0;34m()\u001b[0m\n\u001b[0;32m----> 1\u001b[0;31m \u001b[0mplt\u001b[0m\u001b[0;34m.\u001b[0m\u001b[0mplot\u001b[0m\u001b[0;34m(\u001b[0m\u001b[0mm\u001b[0m\u001b[0;34m)\u001b[0m\u001b[0;34m\u001b[0m\u001b[0m\n\u001b[0m\u001b[1;32m      2\u001b[0m \u001b[0mplt\u001b[0m\u001b[0;34m.\u001b[0m\u001b[0mxlabel\u001b[0m\u001b[0;34m(\u001b[0m\u001b[0;34m\"Iterations\"\u001b[0m\u001b[0;34m)\u001b[0m\u001b[0;34m\u001b[0m\u001b[0m\n\u001b[1;32m      3\u001b[0m \u001b[0mplt\u001b[0m\u001b[0;34m.\u001b[0m\u001b[0mylabel\u001b[0m\u001b[0;34m(\u001b[0m\u001b[0;34m\"constant term\"\u001b[0m\u001b[0;34m)\u001b[0m\u001b[0;34m\u001b[0m\u001b[0m\n\u001b[1;32m      4\u001b[0m \u001b[0mplt\u001b[0m\u001b[0;34m.\u001b[0m\u001b[0mtitle\u001b[0m\u001b[0;34m(\u001b[0m\u001b[0;34m\"m\"\u001b[0m\u001b[0;34m)\u001b[0m\u001b[0;34m;\u001b[0m\u001b[0;34m\u001b[0m\u001b[0m\n",
      "\u001b[0;31mNameError\u001b[0m: name 'm' is not defined"
     ]
    }
   ],
   "source": [
    "plt.plot(m)\n",
    "plt.xlabel(\"Iterations\")\n",
    "plt.ylabel(\"constant term\")\n",
    "plt.title(\"m\");"
   ]
  },
  {
   "cell_type": "code",
   "execution_count": 21,
   "metadata": {
    "collapsed": false,
    "deletable": true,
    "editable": true
   },
   "outputs": [
    {
     "data": {
      "image/png": "[encoded data removed]",
      "text/plain": [
       "<matplotlib.figure.Figure at 0x1078e3358>"
      ]
     },
     "metadata": {},
     "output_type": "display_data"
    }
   ],
   "source": [
    "plt.plot(error)\n",
    "plt.xlabel(\"Iterations\")\n",
    "plt.ylabel(\"Error\")\n",
    "plt.title(\"Error\");"
   ]
  },
  {
   "cell_type": "markdown",
   "metadata": {
    "deletable": true,
    "editable": true
   },
   "source": [
    "## Closed-form Solution vs Gradient Descent Solution: where and how we use them\n",
    "\n",
    "* Closed form solution provides values of theta such that the value of cost function is at its global minima.\n",
    "* On the other hand, GD provides approximate solutions, and depending on the learning rate and weight initialization, it can also provide a solution where const function is at its local minima.\n",
    "\n",
    "However, CFS is not very practical because \n",
    "\n",
    "1. It is computationally very expensive ([read more here](https://stats.stackexchange.com/questions/23128/solving-for-regression-parameters-in-closed-form-vs-gradient-descent))\n",
    "2. Singularity. The inverse of a matrix might not exist ([wikipedia](https://en.wikipedia.org/wiki/Invertible_matrix))\n",
    "1. For most nonlinear regression problems there is no closed form solution."
   ]
  },
  {
   "cell_type": "markdown",
   "metadata": {
    "deletable": true,
    "editable": true
   },
   "source": [
    "## Importance of preprocessing (normalization, standardization)"
   ]
  },
  {
   "cell_type": "markdown",
   "metadata": {
    "deletable": true,
    "editable": true
   },
   "source": [
    "## Assessing Model\n",
    "- Metrics\n",
    "- Visualizations"
   ]
  },
  {
   "cell_type": "markdown",
   "metadata": {
    "deletable": true,
    "editable": true
   },
   "source": [
    "## Assumptions and their validation\n",
    "\n",
    "**Linear relationship:** Relationship between response and feature variables should be linear. \n",
    "* The linearity assumption can be tested using scatter plots.\n",
    "\n",
    "**Little or no multi-collinearity:** It is assumed that there is little or no multicollinearity in the data.\n",
    "* Multicollinearity occurs when the features (or independent variables) are not independent from each other.\n",
    "\n",
    "**Little or no auto-correlation:** There should be little or no autocorrelation in the data. Autocorrelation occurs when the residual errors are not independent from each other.\n",
    "\n",
    "**Homoscedasticity:** Homoscedasticity describes a situation in which the error term (that is, the “noise” or random disturbance in the relationship between the independent variables and the dependent variable) is the same across all values of the independent variables. \n",
    "\n",
    "* As shown below, figure 1 has homoscedasticity while figure 2 has heteroscedasticity.\n",
    "\n"
   ]
  },
  {
   "cell_type": "markdown",
   "metadata": {
    "deletable": true,
    "editable": true
   },
   "source": [
    "**Sources:**\n",
    "\n",
    "* [Quora](https://www.quora.com/What-is-supervised-learning)\n",
    "- [CS229 - Andrew Ng, Stanford University](http://cs229.stanford.edu/notes/cs229-notes1.pdf)\n",
    "- [STAT 501 - PennState Eberly College of Science](https://onlinecourses.science.psu.edu/stat501/node/251)\n",
    "- [Online Stat Book](http://onlinestatbook.com/2/regression/intro.html)\n",
    "- [Machine Learning Mastery](http://machinelearningmastery.com/simple-linear-regression-tutorial-for-machine-learning/)\n",
    "* [Machine Learning Mastery](http://machinelearningmastery.com/supervised-and-unsupervised-machine-learning-algorithms/)"
   ]
  }
 ],
 "metadata": {
  "kernelspec": {
   "display_name": "Python 3",
   "language": "python",
   "name": "python3"
  },
  "language_info": {
   "codemirror_mode": {
    "name": "ipython",
    "version": 3
   },
   "file_extension": ".py",
   "mimetype": "text/x-python",
   "name": "python",
   "nbconvert_exporter": "python",
   "pygments_lexer": "ipython3",
   "version": "3.6.0"
  },
  "widgets": {
   "state": {},
   "version": "1.1.2"
  }
 },
 "nbformat": 4,
 "nbformat_minor": 2
}
